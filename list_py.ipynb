{
  "nbformat": 4,
  "nbformat_minor": 0,
  "metadata": {
    "colab": {
      "provenance": [],
      "authorship_tag": "ABX9TyPB2Oh39Ged2lzJuvQ/Qobl",
      "include_colab_link": true
    },
    "kernelspec": {
      "name": "python3",
      "display_name": "Python 3"
    },
    "language_info": {
      "name": "python"
    }
  },
  "cells": [
    {
      "cell_type": "markdown",
      "metadata": {
        "id": "view-in-github",
        "colab_type": "text"
      },
      "source": [
        "<a href=\"https://colab.research.google.com/github/DevGabrielOn/Csharp_projects/blob/main/list_py.ipynb\" target=\"_parent\"><img src=\"https://colab.research.google.com/assets/colab-badge.svg\" alt=\"Open In Colab\"/></a>"
      ]
    },
    {
      "cell_type": "code",
      "execution_count": null,
      "metadata": {
        "id": "LzzrxNDHToF3"
      },
      "outputs": [],
      "source": [
        "#2v Faça um programa que imprima a frase de tras para frente e veja o que está escrito.\n",
        "#Palindromo - Anotaram a data da maratona\n",
        "fraseinvertid=input('Digite uma frase: ')\n",
        "stringTodaMinuscula=fraseinvertid[::-1]\n",
        "print(stringTodaMinuscula)\n"
      ]
    },
    {
      "cell_type": "code",
      "source": [
        "#3\n",
        "#Faça um programa que calcule quantos segundos tem:\n",
        "#Entrada:\n",
        "#dias = int(input(\"Dias: \"))\n",
        "#horas = int(input(\"Horas: \"))\n",
        "#minutos = int(input(\"Minutos: \"))\n",
        "\n",
        "dias = int(input(\"Dias: \"))\n",
        "horas = int(input(\"Horas: \"))\n",
        "minutos = int(input(\"Minutos: \"))\n",
        "seg_min=60*minutos\n",
        "seg_hor=3600*horas\n",
        "seg_dia=86400*dias\n",
        "print(\"A quantidade de {} dias em segundos da {}s \".format(dias,seg_dia))\n",
        "print(\"A quantidade de {} horas em segundos da {}s \".format(horas,seg_hor))\n",
        "print(\"A quantidade de {} minutos em segundos da {}s \".format(minutos,seg_min))"
      ],
      "metadata": {
        "id": "L2vRtliATtZ3"
      },
      "execution_count": null,
      "outputs": []
    },
    {
      "cell_type": "code",
      "source": [
        "#5 Faça um programa que recebe a velocidade do carro e, caso ultrapasse 80 km/h,\n",
        "#exiba uma mensagem dizendo que o usuário foi multado.\n",
        "#Nesse caso, exiba o valor da multa, cobrando R$ 5 por km acima de 80 km/h.\n",
        "\n",
        "vel=float(input(\"Digite a velocidade do carro: \"))\n",
        "if vel>80:\n",
        "    multa=vel-80\n",
        "    multa=5*multa\n",
        "    print('O usuário foi multado em R${} '.format(multa))\n",
        "    # TODO: write code...\n",
        "else:\n",
        "    # TODO: write code...\n",
        "    print('Velocidade dentro do limite')"
      ],
      "metadata": {
        "id": "UeyuGektTzHV"
      },
      "execution_count": null,
      "outputs": []
    },
    {
      "cell_type": "code",
      "source": [
        "#7 Faça um programa para imprimir a tabuada (operação multiplicação) de um determinado número:\n",
        "#Saída: Ex. Tabuada do 5 de 0 a 9 //5 X 0 = 0 //5 X 1 = 5 // .. 5 X 9 = 45\n",
        "Tabuada=range(0,10)\n",
        "print(\"TABUADA DO 0 AO 9 \")\n",
        "\n",
        "x=int(input(\"Digite um número qualquer: \"))\n",
        "\n",
        "for Tabuada in Tabuada:\n",
        "    resultado=Tabuada * x\n",
        "    print(\"{} x {} = {}\".format(x,Tabuada,resultado))\n",
        "    # TODO: write code..."
      ],
      "metadata": {
        "id": "qZ-pwOafT3Td"
      },
      "execution_count": null,
      "outputs": []
    },
    {
      "cell_type": "code",
      "source": [
        "#8Faça um programa que calcule o resto da divisão inteira entre dois números.\n",
        "#Utilize apenas as operações de soma e subtração para calcular o resultado.\n",
        "n1 = int(input(\"Digite o dividendo: \"))\n",
        "n2 = int(input(\"Digite o divisor: \"))\n",
        "\n",
        "resto = n1\n",
        "while resto >= n2:\n",
        "    resto -= n2\n",
        "\n",
        "print ('O resto da divisão de {} por {} é {}'.format(n1,n2,resto))\n"
      ],
      "metadata": {
        "id": "L-2N64zWUBku"
      },
      "execution_count": null,
      "outputs": []
    },
    {
      "cell_type": "code",
      "source": [
        "#9VEscreva um programa que leia 3 números inteiros referentes ao comprimento dos lados de um triângulo\n",
        "#e classifique-o como:\n",
        "#triângulo equilátero, isósceles ou escaleno.\n",
        "\n",
        "l1 = float(input('Qual o primeiro lado do triângulo? '))\n",
        "l2 = float(input('Qual o segundo lado? '))\n",
        "l3 = float(input('Qual o terceiro lado? '))\n",
        "\n",
        "if (l1 >= l2 + l3) or (l2 >= l1 + l3) or (l3 >= l1 + l2):\n",
        "    print('Este triângulo não existe.')\n",
        "elif l1 == l2 == l3:\n",
        "    print('Triângulo equilátero')\n",
        "elif l1 != l2 != l3 != l1:\n",
        "    print('Triângulo escaleno')\n",
        "else:\n",
        "    print('Triângulo isósceles')"
      ],
      "metadata": {
        "id": "sqjNYSdxUDHF"
      },
      "execution_count": null,
      "outputs": []
    },
    {
      "cell_type": "code",
      "source": [
        "#10Escreva uma função que receba um número inteiro como entrada (px.: 32243)\n",
        "#e retorne o número invertido (px.: 34223).\n",
        "\n",
        "def inverte(numint):\n",
        "    numstr=str(numint)\n",
        "    numstr=numstr[::-1]\n",
        "    numinvertido=int(numstr)\n",
        "    return numinvertido\n",
        "\n",
        "p = int(input('Digite um numero inteiro com mais de 2 digitos: '))\n",
        "\n",
        "resultado = inverte(p)\n",
        "print(resultado,\"\\nESSE FOI IMPOSSIVEL DE FAZER\")\n"
      ],
      "metadata": {
        "colab": {
          "base_uri": "https://localhost:8080/"
        },
        "id": "eue1M9B0UDEK",
        "outputId": "0247218b-ec5b-487e-82a8-bd2cc81bd440"
      },
      "execution_count": 5,
      "outputs": [
        {
          "output_type": "stream",
          "name": "stdout",
          "text": [
            "Digite um numero inteiro com mais de 2 digitos: 123\n",
            "321 \n",
            "ESSE FOI IMPOSSIVEL DE FAZER\n"
          ]
        }
      ]
    },
    {
      "cell_type": "code",
      "source": [
        "'''#11 Escreva uma função que receba uma string e conte o número de vogais dentro dela, por exemplo:\n",
        "Entrada: 'Ciência de Dados'\n",
        "Saida: 'A palavra tem 7 vogais' '''#NÃO CONSEGUI FAZER\n",
        "def contavogal(frase,cont):\n",
        "    if frase =='a' or frase=='e' or frase=='i' or frase=='o' or frase=='u':\n",
        "        cont+=1\n",
        "    return cont\n",
        "contx=0\n",
        "frasex=input(\"Digite uma frase: \")\n",
        "contavogal(frasex,contx)\n",
        "print(\"A frase tem {} vogais.\".format(contx))"
      ],
      "metadata": {
        "colab": {
          "base_uri": "https://localhost:8080/"
        },
        "id": "-mDWC8RhUCnA",
        "outputId": "a23d144a-fa44-454a-f923-702b06003608"
      },
      "execution_count": 6,
      "outputs": [
        {
          "output_type": "stream",
          "name": "stdout",
          "text": [
            "Digite uma frase: casa era velha\n",
            "A frase tem 0 vogais.\n"
          ]
        }
      ]
    },
    {
      "cell_type": "code",
      "source": [
        "'''\n",
        "#12Escreva um programa que encontre o item mais frequente de uma lista.\n",
        "Exemplo: [2, 7, 7, 7, '#', '#', '#', '@', 3, '#', 6]\n",
        "Saída: O caractere mais frequente é '#' e aparece 4 vezes '''\n",
        "# Definindo a lista\n",
        "\n",
        "lista = [2, 7, 7, 7, '#', '#', '#', '@', 3, '#', 6]\n",
        "\n",
        "freq = 0\n",
        "contfre = 0\n",
        "\n",
        "# Iterando sobre a lista original para contar a frequência de cada elemento\n",
        "for elemento in lista:\n",
        "    cont_ele = lista.count(elemento)\n",
        "    if cont_ele > contfre:\n",
        "        freq = elemento\n",
        "        contfre = cont_ele\n",
        "\n",
        "print(\"O elemento mais frequente é '{}' e aparece {} vezes.\".format(freq, contfre))"
      ],
      "metadata": {
        "colab": {
          "base_uri": "https://localhost:8080/"
        },
        "id": "HdsLmPUVUCY3",
        "outputId": "b0027e9e-de3e-4acf-a221-fab24ec2a27f"
      },
      "execution_count": 7,
      "outputs": [
        {
          "output_type": "stream",
          "name": "stdout",
          "text": [
            "O elemento mais frequente é '#' e aparece 4 vezes.\n"
          ]
        }
      ]
    },
    {
      "cell_type": "code",
      "source": [
        "'''\n",
        "#13 Escreva um programa para verificar se uma palavra é ou não um palíndromo.\n",
        "Ex: Digite uma palavra: ovo\n",
        "ovo é um palindromo'''\n",
        "fraseinvertid=input('Digite uma frase: ')\n",
        "frase=fraseinvertid[::-1]\n",
        "if frase==fraseinvertid:\n",
        "    print(\"é um palindromo\")\n",
        "    # TODO: write code...\n",
        "else:\n",
        "    print('não é palindromo')\n",
        "print(frase)"
      ],
      "metadata": {
        "colab": {
          "base_uri": "https://localhost:8080/"
        },
        "id": "cZJH47A6Yy4Y",
        "outputId": "ac0266af-d663-4c8f-dcab-eb23da9ca2c8"
      },
      "execution_count": 8,
      "outputs": [
        {
          "output_type": "stream",
          "name": "stdout",
          "text": [
            "Digite uma frase: 324546\n",
            "não é palindromo\n",
            "645423\n"
          ]
        }
      ]
    }
  ]
}